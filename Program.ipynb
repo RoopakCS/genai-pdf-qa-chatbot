{
 "cells": [
  {
   "cell_type": "code",
   "execution_count": null,
   "metadata": {
    "vscode": {
     "languageId": "plaintext"
    }
   },
   "outputs": [],
   "source": [
    "import openai\n",
    "from langchain.prompts import PromptTemplate\n",
    "from langchain.chains import LLMChain\n",
    "from langchain.llms import OpenAI\n",
    "from PyPDF2 import PdfReader\n",
    "\n",
    "# Step 1: Set OpenAI API Key\n",
    "\n",
    "\n",
    "# Step 2: Load PDF and Extract Text\n",
    "def extract_text_from_pdf(pdf_path: str) -> str:\n",
    "    reader = PdfReader(pdf_path)\n",
    "    text = \"\"\n",
    "    for page in reader.pages:\n",
    "        text += page.extract_text()\n",
    "    return text\n",
    "\n",
    "# Step 3: Define the LangChain components\n",
    "# Define the prompt template\n",
    "prompt_template = \"\"\"\n",
    "You are a knowledgeable assistant that can answer questions based on the content of a document. \n",
    "The document content is as follows:\n",
    "\n",
    "{document_content}\n",
    "\n",
    "Please answer the following question:\n",
    "{question}\n",
    "\"\"\"\n",
    "\n",
    "# Instantiate the LangChain Prompt Template\n",
    "prompt = PromptTemplate(template=prompt_template, input_variables=[\"document_content\", \"question\"])\n",
    "\n",
    "# Step 4: Define the Model (OpenAI GPT)\n",
    "def query_pdf_content(pdf_path: str, user_query: str) -> str:\n",
    "    # Extract text from the PDF\n",
    "    document_content = extract_text_from_pdf(pdf_path)\n",
    "    \n",
    "    # Initialize LangChain with the model and prompt\n",
    "    model = OpenAI(temperature=0,openai_api_key=\"your-api-key\")\n",
    "    chain = LLMChain(llm=model, prompt=prompt)\n",
    "\n",
    "    # Step 5: Run the model with the document content and user query\n",
    "    response = chain.run({\"document_content\": document_content, \"question\": user_query})\n",
    "\n",
    "    return response\n",
    "\n",
    "# Example usage\n",
    "pdf_path = \"/content/DSA_INDEX.pdf\"  # Replace with your PDF path\n",
    "user_query = \"What is the main topic of the document?\"\n",
    "\n",
    "# Query the chatbot\n",
    "response = query_pdf_content(pdf_path, user_query)\n",
    "\n",
    "# Display the result\n",
    "print(f\"Response: {response}\")"
   ]
  }
 ],
 "metadata": {
  "language_info": {
   "name": "python"
  }
 },
 "nbformat": 4,
 "nbformat_minor": 2
}
